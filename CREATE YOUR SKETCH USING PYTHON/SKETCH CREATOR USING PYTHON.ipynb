{
 "cells": [
  {
   "cell_type": "code",
   "execution_count": 6,
   "metadata": {},
   "outputs": [
    {
     "data": {
      "text/plain": [
       "-1"
      ]
     },
     "execution_count": 6,
     "metadata": {},
     "output_type": "execute_result"
    }
   ],
   "source": [
    "#STEP - 1 (importing and showing image)\n",
    "\n",
    "import cv2\n",
    "\n",
    "#importing the image\n",
    "img = cv2.imread('pb.jpg')\n",
    "\n",
    "#showing the image if it's imported\n",
    "cv2.imshow('Original',img)                 #.......... cv2.imshow(\"WINDOW_NAME\",IMAGE_OBJ)\n",
    "\n",
    "#to pause the image window\n",
    "cv2.waitKey(0)\n",
    "# cv2.destroyAllWindows()\n"
   ]
  },
  {
   "cell_type": "code",
   "execution_count": 13,
   "metadata": {},
   "outputs": [],
   "source": [
    "# STEP - 2 ( MAIN PROGRAM ) )\n",
    "\n",
    "import cv2\n",
    "\n",
    "#importing the image\n",
    "img = cv2.imread('pb.jpg',3)\n",
    "\n",
    "#converting the image into gray scale\n",
    "gray = cv2.cvtColor(img,cv2.COLOR_BGR2GRAY )\n",
    "\n",
    "#converting into negative\n",
    "inverted = cv2.bitwise_not(gray)\n",
    "\n",
    "#smoothening the image\n",
    "smoothen = cv2.GaussianBlur(inverted, (21,21), sigmaX = 0 , sigmaY = 0)\n",
    "\n",
    "#defining a function, which will divide our image\n",
    "def dodge(a,b):\n",
    "    return cv2.divide(a,255-b, scale = 256 )\n",
    "\n",
    "#calling the function\n",
    "finalimage = (dodge(gray,smoothen))\n",
    "\n",
    "#showing the image \n",
    "cv2.imshow('FINAL IMAGE',finalimage)\n",
    "\n",
    "#saving the finalimage in our pc\n",
    "cv2.imwrite('final.jpg',finalimage)\n",
    "\n",
    "#to pause the image window\n",
    "cv2.waitKey(0)\n",
    "cv2.destroyAllWindows()\n"
   ]
  }
 ],
 "metadata": {
  "kernelspec": {
   "display_name": "Python 3",
   "language": "python",
   "name": "python3"
  },
  "language_info": {
   "codemirror_mode": {
    "name": "ipython",
    "version": 3
   },
   "file_extension": ".py",
   "mimetype": "text/x-python",
   "name": "python",
   "nbconvert_exporter": "python",
   "pygments_lexer": "ipython3",
   "version": "3.8.5"
  }
 },
 "nbformat": 4,
 "nbformat_minor": 4
}
